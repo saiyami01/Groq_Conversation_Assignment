{
  "nbformat": 4,
  "nbformat_minor": 0,
  "metadata": {
    "colab": {
      "provenance": []
    },
    "kernelspec": {
      "name": "python3",
      "display_name": "Python 3"
    },
    "language_info": {
      "name": "python"
    }
  },
  "cells": [
    {
      "cell_type": "markdown",
      "source": [
        "#Conversation Management & Classification using Groq API\n"
      ],
      "metadata": {
        "id": "a9zLFY3Mc88Z"
      }
    },
    {
      "cell_type": "markdown",
      "source": [
        "## Task 1: Managing Conversation History with Summarization\n"
      ],
      "metadata": {
        "id": "CaH0ecr1dNFQ"
      }
    },
    {
      "cell_type": "code",
      "execution_count": 8,
      "metadata": {
        "colab": {
          "base_uri": "https://localhost:8080/"
        },
        "id": "291XsRsHR90t",
        "outputId": "4f330c71-f29a-4cac-fd7c-7b1f82648fce"
      },
      "outputs": [
        {
          "name": "stdout",
          "output_type": "stream",
          "text": [
            "Paste your GROQ (OpenAI-compatible) API key (will be kept only in this runtime): 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\n"
          ]
        }
      ],
      "source": [
        "# Install latest OpenAI client\n",
        "!pip install --quiet openai\n",
        "\n",
        "# Import\n",
        "from openai import OpenAI\n",
        "\n",
        "# Ask for API key (runtime only, not saved in notebook)\n",
        "api_key = input(\"Paste your GROQ (OpenAI-compatible) API key (will be kept only in this runtime): \")\n",
        "\n",
        "# Create client pointing to Groq\n",
        "client = OpenAI(\n",
        "    api_key=api_key,\n",
        "    base_url=\"https://api.groq.com/openai/v1\"\n",
        ")\n"
      ]
    },
    {
      "cell_type": "code",
      "source": [
        "# Conversation history\n",
        "conversation_history = []\n",
        "\n",
        "# Helper to add user/assistant messages\n",
        "def add_message(role, content):\n",
        "    conversation_history.append({\"role\": role, \"content\": content})\n"
      ],
      "metadata": {
        "id": "IhEGWM51S-Jy"
      },
      "execution_count": 9,
      "outputs": []
    },
    {
      "cell_type": "code",
      "source": [
        "def summarize_conversation(history, model=\"mixtral-8x7b-32768\"):\n",
        "    \"\"\"\n",
        "    Summarize conversation history using Groq API\n",
        "    \"\"\"\n",
        "    response = client.chat.completions.create(\n",
        "        model=model,\n",
        "        messages=[\n",
        "            {\"role\": \"system\", \"content\": \"You are a summarizer. Summarize the conversation clearly and concisely.\"},\n",
        "            {\"role\": \"user\", \"content\": str(history)}\n",
        "        ]\n",
        "    )\n",
        "    return response.choices[0].message.content\n"
      ],
      "metadata": {
        "id": "YR8WvZTRUPz-"
      },
      "execution_count": 10,
      "outputs": []
    },
    {
      "cell_type": "code",
      "source": [
        "def truncate_history(history, last_n=None, max_chars=None):\n",
        "    \"\"\"\n",
        "    Truncate conversation by last N turns or max characters\n",
        "    \"\"\"\n",
        "    truncated = history\n",
        "\n",
        "    if last_n:\n",
        "        truncated = history[-last_n:]\n",
        "    if max_chars:\n",
        "        combined = \" \".join([msg[\"content\"] for msg in truncated])\n",
        "        if len(combined) > max_chars:\n",
        "            # Cut down until under limit\n",
        "            truncated = []\n",
        "            current_len = 0\n",
        "            for msg in reversed(history):\n",
        "                if current_len + len(msg[\"content\"]) <= max_chars:\n",
        "                    truncated.insert(0, msg)\n",
        "                    current_len += len(msg[\"content\"])\n",
        "                else:\n",
        "                    break\n",
        "    return truncated\n"
      ],
      "metadata": {
        "id": "mUSe-gRQUVF_"
      },
      "execution_count": 11,
      "outputs": []
    },
    {
      "cell_type": "code",
      "source": [
        "def simulate_conversation(inputs, k=3, model=\"mixtral-8x7b-32768\"):\n",
        "    global conversation_history\n",
        "    run_count = 0\n",
        "\n",
        "    for user_input in inputs:\n",
        "        # Add user message\n",
        "        add_message(\"user\", user_input)\n",
        "\n",
        "        # Assistant reply (dummy model response for demo)\n",
        "        response = client.chat.completions.create(\n",
        "            model=model,\n",
        "            messages=conversation_history\n",
        "        )\n",
        "        assistant_reply = response.choices[0].message.content\n",
        "        add_message(\"assistant\", assistant_reply)\n",
        "\n",
        "        run_count += 1\n",
        "\n",
        "        # Summarize every k-th run\n",
        "        if run_count % k == 0:\n",
        "            summary = summarize_conversation(conversation_history, model=model)\n",
        "            conversation_history = [{\"role\": \"system\", \"content\": \"Summary of conversation so far: \" + summary}]\n",
        "\n",
        "        print(f\"User: {user_input}\")\n",
        "        print(f\"Assistant: {assistant_reply}\")\n",
        "        print(\"-\" * 40)\n"
      ],
      "metadata": {
        "id": "-cfV5d3xUh88"
      },
      "execution_count": 12,
      "outputs": []
    },
    {
      "cell_type": "code",
      "source": [
        "# Minimal test: single conversation\n",
        "test_messages = [\n",
        "    {\"role\": \"system\", \"content\": \"You are a helpful assistant.\"},\n",
        "    {\"role\": \"user\", \"content\": \"Hello, can you summarize photosynthesis in one line?\"}\n",
        "]\n",
        "\n",
        "response = client.chat.completions.create(\n",
        "    model=\"llama-3.3-70b-versatile\",   # Or try another Groq-supported model\n",
        "    messages=test_messages\n",
        ")\n",
        "\n",
        "print(response.choices[0].message.content)\n"
      ],
      "metadata": {
        "colab": {
          "base_uri": "https://localhost:8080/"
        },
        "id": "x2mXCRW6UkNq",
        "outputId": "7363ec1b-d8cf-421f-834e-d0ce637ebf02"
      },
      "execution_count": 15,
      "outputs": [
        {
          "output_type": "stream",
          "name": "stdout",
          "text": [
            "Photosynthesis is the process by which plants, algae, and some bacteria convert sunlight, water, and carbon dioxide into glucose and oxygen.\n"
          ]
        }
      ]
    },
    {
      "cell_type": "markdown",
      "source": [
        "##Task 2: JSON Schema Classification & Information Extraction"
      ],
      "metadata": {
        "id": "b5C5h1ekdnrV"
      }
    },
    {
      "cell_type": "code",
      "source": [
        "# JSON schema for extracting structured details\n",
        "schema = {\n",
        "    \"name\": \"extract_user_info\",\n",
        "    \"description\": \"Extract user details from chat messages\",\n",
        "    \"parameters\": {\n",
        "        \"type\": \"object\",\n",
        "        \"properties\": {\n",
        "            \"name\": {\"type\": \"string\", \"description\": \"Full name of the person\"},\n",
        "            \"email\": {\"type\": \"string\", \"description\": \"Email address\"},\n",
        "            \"phone\": {\"type\": \"string\", \"description\": \"Phone number\"},\n",
        "            \"location\": {\"type\": \"string\", \"description\": \"User's location (city, country, etc.)\"},\n",
        "            \"age\": {\"type\": \"integer\", \"description\": \"Age of the person\"}\n",
        "        },\n",
        "        \"required\": [\"name\", \"email\", \"phone\", \"location\", \"age\"]\n",
        "    }\n",
        "}\n"
      ],
      "metadata": {
        "id": "9eILXztpaJdS"
      },
      "execution_count": 16,
      "outputs": []
    },
    {
      "cell_type": "code",
      "source": [
        "import json\n",
        "\n",
        "def extract_details_from_chat(chat_text, model=\"llama-3.3-70b-versatile\"):\n",
        "    response = client.chat.completions.create(\n",
        "        model=model,\n",
        "        messages=[{\"role\": \"user\", \"content\": chat_text}],\n",
        "        tools=[\n",
        "            {\n",
        "                \"type\": \"function\",\n",
        "                \"function\": schema\n",
        "            }\n",
        "        ],\n",
        "        tool_choice=\"auto\"  # Let model decide when to call\n",
        "    )\n",
        "\n",
        "    # Extract the structured output\n",
        "    tool_call = response.choices[0].message.tool_calls[0]\n",
        "    arguments = json.loads(tool_call.function.arguments)\n",
        "\n",
        "    return arguments\n"
      ],
      "metadata": {
        "id": "CIJwIYmjamQn"
      },
      "execution_count": 17,
      "outputs": []
    },
    {
      "cell_type": "code",
      "source": [
        "sample_chats = [\n",
        "    \"Hi, my name is Alice Johnson. I’m 28 years old, based in New York, and you can reach me at alice.j@gmail.com or call me on 123-456-7890.\",\n",
        "    \"Hello, this is Raj Singh. I'm 35 from Mumbai, India. My email is raj.singh@yahoo.com and my contact number is +91-9876543210.\",\n",
        "    \"Hey there, I’m Maria Lopez, 22, living in Madrid. You can send me an email at maria22@outlook.es or call me at 600123456.\"\n",
        "]\n",
        "\n",
        "for chat in sample_chats:\n",
        "    details = extract_details_from_chat(chat)\n",
        "    print(\"Chat:\", chat)\n",
        "    print(\"Extracted:\", details)\n",
        "    print(\"-\" * 50)\n"
      ],
      "metadata": {
        "colab": {
          "base_uri": "https://localhost:8080/"
        },
        "id": "PH85h5R3anxo",
        "outputId": "3ddd710d-8d12-41e8-def6-6df5e367e30f"
      },
      "execution_count": 18,
      "outputs": [
        {
          "output_type": "stream",
          "name": "stdout",
          "text": [
            "Chat: Hi, my name is Alice Johnson. I’m 28 years old, based in New York, and you can reach me at alice.j@gmail.com or call me on 123-456-7890.\n",
            "Extracted: {'age': 28, 'email': 'alice.j@gmail.com', 'location': 'New York', 'name': 'Alice Johnson', 'phone': '123-456-7890'}\n",
            "--------------------------------------------------\n",
            "Chat: Hello, this is Raj Singh. I'm 35 from Mumbai, India. My email is raj.singh@yahoo.com and my contact number is +91-9876543210.\n",
            "Extracted: {'age': 35, 'email': 'raj.singh@yahoo.com', 'location': 'Mumbai, India', 'name': 'Raj Singh', 'phone': '+91-9876543210'}\n",
            "--------------------------------------------------\n",
            "Chat: Hey there, I’m Maria Lopez, 22, living in Madrid. You can send me an email at maria22@outlook.es or call me at 600123456.\n",
            "Extracted: {'age': 22, 'email': 'maria22@outlook.es', 'location': 'Madrid', 'name': 'Maria Lopez', 'phone': '600123456'}\n",
            "--------------------------------------------------\n"
          ]
        }
      ]
    },
    {
      "cell_type": "code",
      "source": [
        "!pip install --quiet jsonschema\n",
        "\n",
        "from jsonschema import validate, ValidationError\n"
      ],
      "metadata": {
        "id": "A47WcvYtaspc"
      },
      "execution_count": 19,
      "outputs": []
    },
    {
      "cell_type": "code",
      "source": [
        "def validate_extracted_data(data, schema):\n",
        "    \"\"\"\n",
        "    Validate extracted JSON against the defined schema.\n",
        "    \"\"\"\n",
        "    try:\n",
        "        validate(instance=data, schema=schema[\"parameters\"])\n",
        "        print(\"✅ Validation passed:\", data)\n",
        "    except ValidationError as e:\n",
        "        print(\"❌ Validation failed:\", e.message)\n",
        "        print(\"Data was:\", data)\n"
      ],
      "metadata": {
        "id": "CzmEeFs2bWEQ"
      },
      "execution_count": 20,
      "outputs": []
    },
    {
      "cell_type": "code",
      "source": [
        "sample_chats = [\n",
        "    \"Hi, my name is Alice Johnson. I’m 28 years old, based in New York, and you can reach me at alice.j@gmail.com or call me on 123-456-7890.\",\n",
        "    \"Hello, this is Raj Singh. I'm 35 from Mumbai, India. My email is raj.singh@yahoo.com and my contact number is +91-9876543210.\",\n",
        "    \"Hey there, I’m Maria Lopez, 22, living in Madrid. You can send me an email at maria22@outlook.es or call me at 600123456.\"\n",
        "]\n",
        "\n",
        "for chat in sample_chats:\n",
        "    details = extract_details_from_chat(chat)\n",
        "    print(\"Chat:\", chat)\n",
        "    validate_extracted_data(details, schema)\n",
        "    print(\"-\" * 50)\n"
      ],
      "metadata": {
        "colab": {
          "base_uri": "https://localhost:8080/"
        },
        "id": "LDw9K7cnbc2J",
        "outputId": "b4f8979b-1d7a-49b4-d8ec-803a7f621518"
      },
      "execution_count": 21,
      "outputs": [
        {
          "output_type": "stream",
          "name": "stdout",
          "text": [
            "Chat: Hi, my name is Alice Johnson. I’m 28 years old, based in New York, and you can reach me at alice.j@gmail.com or call me on 123-456-7890.\n",
            "✅ Validation passed: {'age': 28, 'email': 'alice.j@gmail.com', 'location': 'New York', 'name': 'Alice Johnson', 'phone': '123-456-7890'}\n",
            "--------------------------------------------------\n",
            "Chat: Hello, this is Raj Singh. I'm 35 from Mumbai, India. My email is raj.singh@yahoo.com and my contact number is +91-9876543210.\n",
            "✅ Validation passed: {'age': 35, 'email': 'raj.singh@yahoo.com', 'location': 'Mumbai, India', 'name': 'Raj Singh', 'phone': '+91-9876543210'}\n",
            "--------------------------------------------------\n",
            "Chat: Hey there, I’m Maria Lopez, 22, living in Madrid. You can send me an email at maria22@outlook.es or call me at 600123456.\n",
            "✅ Validation passed: {'age': 22, 'email': 'maria22@outlook.es', 'location': 'Madrid', 'name': 'Maria Lopez', 'phone': '600123456'}\n",
            "--------------------------------------------------\n"
          ]
        }
      ]
    },
    {
      "cell_type": "code",
      "source": [],
      "metadata": {
        "id": "QN52FPDxbeM3"
      },
      "execution_count": null,
      "outputs": []
    }
  ]
}